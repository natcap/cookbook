{
 "cells": [
  {
   "cell_type": "markdown",
   "id": "f0304aed",
   "metadata": {},
   "source": [
    "# Generating Slippy Map Tiles with GDAL\n",
    "\n",
    "## Objective\n",
    "\n",
    "When previewing large rasters, it's helpful to have people be able\n",
    "to zoom around, but this is difficult without hosting tiles somewhere.\n",
    "\n",
    "## Process\n",
    "\n",
    "1. Procure your data.\n",
    "2. Pick your color palette from the [GRASS Wiki](https://grasswiki.osgeo.org/wiki/Color_tables) and procure the text file from the GRASS SVN repository\n",
    "3. Use `gdaldem` to recolor the raster\n",
    "4. Use `gdal2tiles.py` to slice up the raster.\n",
    "5. Serve the directory somewhere where you can serve static files and load the tiles in your map."
   ]
  },
  {
   "cell_type": "markdown",
   "id": "275f208e",
   "metadata": {},
   "source": [
    "## Use `global_dem.tif` from the InVEST Sample Data\n",
    "\n",
    "This is a nice file to demo - not too fine to slow down tiling but still al global dataset."
   ]
  },
  {
   "cell_type": "code",
   "execution_count": null,
   "id": "dff9538e",
   "metadata": {},
   "outputs": [],
   "source": [
    "! cp ~/workspace/natcap/invest-sample-data/Base_Data/global_dem.tif ."
   ]
  },
  {
   "cell_type": "markdown",
   "id": "867c8d5c",
   "metadata": {},
   "source": [
    "## SRTM Elevation Colormap\n",
    "\n",
    "![SRTM Colormap](https://grasswiki.osgeo.org/w/images/Colortable_srtm.png \"SRTM Colormap\")"
   ]
  },
  {
   "cell_type": "code",
   "execution_count": null,
   "id": "aafe77f4",
   "metadata": {},
   "outputs": [],
   "source": [
    "! wget https://svn.osgeo.org/grass/grass/branches/releasebranch_6_4/lib/gis/colors/srtm -O srtm.gcolors\n",
    "! cat srtm.gcolors"
   ]
  },
  {
   "cell_type": "markdown",
   "id": "8be06bea",
   "metadata": {},
   "source": [
    "## Process the Raster into Tiles"
   ]
  },
  {
   "cell_type": "code",
   "execution_count": null,
   "id": "bd8122ce",
   "metadata": {},
   "outputs": [],
   "source": [
    "! gdaldem color-relief global_dem.tif srtm.gcolors global_dem_colorized.tif"
   ]
  },
  {
   "cell_type": "code",
   "execution_count": null,
   "id": "4f32ecce",
   "metadata": {},
   "outputs": [],
   "source": [
    "! gdal2tiles.py --xyz -r near --zoom=1-6 --processes=3 global_dem_colorized.tif tiles/"
   ]
  },
  {
   "cell_type": "markdown",
   "id": "5e64f525",
   "metadata": {},
   "source": [
    "## Preview the Tiles with Leaflet"
   ]
  },
  {
   "cell_type": "code",
   "execution_count": null,
   "id": "d6c5874c",
   "metadata": {},
   "outputs": [],
   "source": [
    "import ipyleaflet\n",
    "from ipyleaflet import Map, LocalTileLayer, basemap_to_tiles, basemaps\n",
    "\n",
    "chosen_basemap = basemap_to_tiles(basemaps.OpenStreetMap.Mapnik)\n",
    "chosen_basemap.name = '(basemap) OpenStreetMap Mapnik'\n",
    "\n",
    "m = Map(\n",
    "    basemap=chosen_basemap,\n",
    "    center=(0,0),\n",
    "    zoom=2,  # zoom level for most of the globedisplay(m)\n",
    ")\n",
    "\n",
    "tiles_layer = LocalTileLayer(\n",
    "    path='tiles/{z}/{x}/{y}.png',\n",
    "    name='InVEST Sample DAta',\n",
    "    show_loading=True,\n",
    "    attribution='InVEST'\n",
    ")\n",
    "m.add_layer(tiles_layer)\n",
    "\n",
    "m"
   ]
  },
  {
   "cell_type": "markdown",
   "id": "67a966b2",
   "metadata": {},
   "source": [
    "## Serve the map tiles somewhere\n",
    "\n",
    "At this point, the `tiles/` directory is just a directory of files that can\n",
    "be copied to your webserver of choice, such as a public google cloud bucket,\n",
    "or even github pages if the tile cache doesn't exceed github's repository\n",
    "limits."
   ]
  },
  {
   "cell_type": "code",
   "execution_count": null,
   "id": "b30a9d39",
   "metadata": {},
   "outputs": [],
   "source": []
  },
  {
   "cell_type": "code",
   "execution_count": null,
   "id": "78a740b9",
   "metadata": {},
   "outputs": [],
   "source": []
  }
 ],
 "metadata": {
  "kernelspec": {
   "display_name": "Python 3 (ipykernel)",
   "language": "python",
   "name": "python3"
  },
  "language_info": {
   "codemirror_mode": {
    "name": "ipython",
    "version": 3
   },
   "file_extension": ".py",
   "mimetype": "text/x-python",
   "name": "python",
   "nbconvert_exporter": "python",
   "pygments_lexer": "ipython3",
   "version": "3.10.11"
  }
 },
 "nbformat": 4,
 "nbformat_minor": 5
}
